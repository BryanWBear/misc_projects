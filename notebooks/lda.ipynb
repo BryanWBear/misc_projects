{
 "cells": [
  {
   "cell_type": "code",
   "execution_count": null,
   "metadata": {},
   "outputs": [],
   "source": []
  }
 ],
 "metadata": {
  "kernelspec": {
   "display_name": "stat-222",
   "language": "python",
   "name": "python3"
  },
  "language_info": {
   "name": "python",
   "version": "3.9.16"
  },
  "orig_nbformat": 4,
  "vscode": {
   "interpreter": {
    "hash": "7e341ab7778497f9d9ee1e825e0472870fe97556fd25583590c5303e68cf6db9"
   }
  }
 },
 "nbformat": 4,
 "nbformat_minor": 2
}
