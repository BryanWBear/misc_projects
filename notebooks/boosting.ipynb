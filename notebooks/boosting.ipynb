{
 "cells": [
  {
   "cell_type": "code",
   "execution_count": 127,
   "metadata": {},
   "outputs": [],
   "source": [
    "from sklearn.tree import DecisionTreeClassifier\n",
    "import numpy as np\n",
    "import pandas as pd\n",
    "import matplotlib.pyplot as plt\n",
    "\n",
    "class BoostedClassificationTrees:\n",
    "    def __init__(self, max_tree_depth=2, num_iter=100) -> None:\n",
    "        self.max_tree_depth = max_tree_depth\n",
    "        self.num_iter = num_iter\n",
    "        self.object_weights = None\n",
    "        self.clf_weights = None\n",
    "        self.trees = None\n",
    "\n",
    "    # TODO: can make this more efficient by performing inference outside of the function one time. \n",
    "    def _num_negative(self, X_train: np.array, y_train: np.array, clf: DecisionTreeClassifier):\n",
    "        y_pred = clf.predict(X_train)\n",
    "        ind = np.where(y_pred != y_train, 1, 0)\n",
    "        # print(f'miss: {sum(ind)}')\n",
    "        # print(np.nonzero(ind))\n",
    "        return np.dot(ind, self.object_weights)\n",
    "\n",
    "    def _update_weights(self, X_train: np.array, y_train: np.array, alpha_t: float, clf: DecisionTreeClassifier):\n",
    "        y_pred = clf.predict(X_train)\n",
    "        raw_weights = self.object_weights * np.exp(-1 * y_pred * y_train * alpha_t)\n",
    "        self.object_weights = raw_weights / np.sum(raw_weights)\n",
    "\n",
    "    \n",
    "    def fit(self, X_train: np.array, y_train: np.array) -> None:\n",
    "        self.object_weights = np.ones(X_train.shape[0]) / X_train.shape[0]\n",
    "        self.clf_weights = []\n",
    "        self.trees = []\n",
    "\n",
    "        for i in range(self.num_iter):\n",
    "            dtc = DecisionTreeClassifier(max_depth=self.max_tree_depth)\n",
    "            dtc.fit(X_train, y_train, sample_weight=self.object_weights)\n",
    "            negatives = self._num_negative(X_train, y_train, dtc)\n",
    "            alpha_t = 0.5 * np.log((1 - negatives) / negatives)\n",
    "\n",
    "            self.trees.append(dtc)\n",
    "            self.clf_weights.append(alpha_t)\n",
    "            self._update_weights(X_train, y_train, alpha_t, dtc)\n",
    "            # sns.lineplot(self.object_weights)\n",
    "            # plt.show()\n",
    "\n",
    "    def predict(self, X_test: np.array):\n",
    "        if self.trees is None:\n",
    "            raise(AssertionError(\"fit the model first before predicting.\"))\n",
    "        preds = np.zeros(X_test.shape[0])\n",
    "        for tree, weight in zip(self.trees, self.object_weights):\n",
    "            preds += tree.predict(X_test) * weight\n",
    "\n",
    "        return np.where(preds > 0, 1, -1)"
   ]
  },
  {
   "cell_type": "code",
   "execution_count": 118,
   "metadata": {},
   "outputs": [
    {
     "name": "stdout",
     "output_type": "stream",
     "text": [
      "0.8897177670023623\n"
     ]
    }
   ],
   "source": [
    "clf = BoostedClassificationTrees()\n",
    "clf.fit(X_train, y_train)\n",
    "print(accuracy_score(y_test, clf.predict(X_test)))\n",
    "accs.append(accuracy_score(y_test, clf.predict(X_test)))"
   ]
  },
  {
   "cell_type": "markdown",
   "metadata": {},
   "source": []
  },
  {
   "cell_type": "code",
   "execution_count": 88,
   "metadata": {},
   "outputs": [],
   "source": [
    "df = pd.read_csv('../data/mushrooms.csv')"
   ]
  },
  {
   "cell_type": "code",
   "execution_count": 89,
   "metadata": {},
   "outputs": [
    {
     "data": {
      "text/html": [
       "<div>\n",
       "<style scoped>\n",
       "    .dataframe tbody tr th:only-of-type {\n",
       "        vertical-align: middle;\n",
       "    }\n",
       "\n",
       "    .dataframe tbody tr th {\n",
       "        vertical-align: top;\n",
       "    }\n",
       "\n",
       "    .dataframe thead th {\n",
       "        text-align: right;\n",
       "    }\n",
       "</style>\n",
       "<table border=\"1\" class=\"dataframe\">\n",
       "  <thead>\n",
       "    <tr style=\"text-align: right;\">\n",
       "      <th></th>\n",
       "      <th>class</th>\n",
       "      <th>cap-shape</th>\n",
       "      <th>cap-surface</th>\n",
       "      <th>cap-color</th>\n",
       "      <th>bruises</th>\n",
       "      <th>odor</th>\n",
       "      <th>gill-attachment</th>\n",
       "      <th>gill-spacing</th>\n",
       "      <th>gill-size</th>\n",
       "      <th>gill-color</th>\n",
       "      <th>...</th>\n",
       "      <th>stalk-surface-below-ring</th>\n",
       "      <th>stalk-color-above-ring</th>\n",
       "      <th>stalk-color-below-ring</th>\n",
       "      <th>veil-type</th>\n",
       "      <th>veil-color</th>\n",
       "      <th>ring-number</th>\n",
       "      <th>ring-type</th>\n",
       "      <th>spore-print-color</th>\n",
       "      <th>population</th>\n",
       "      <th>habitat</th>\n",
       "    </tr>\n",
       "  </thead>\n",
       "  <tbody>\n",
       "    <tr>\n",
       "      <th>0</th>\n",
       "      <td>1</td>\n",
       "      <td>5</td>\n",
       "      <td>2</td>\n",
       "      <td>4</td>\n",
       "      <td>1</td>\n",
       "      <td>6</td>\n",
       "      <td>1</td>\n",
       "      <td>0</td>\n",
       "      <td>1</td>\n",
       "      <td>4</td>\n",
       "      <td>...</td>\n",
       "      <td>2</td>\n",
       "      <td>7</td>\n",
       "      <td>7</td>\n",
       "      <td>0</td>\n",
       "      <td>2</td>\n",
       "      <td>1</td>\n",
       "      <td>4</td>\n",
       "      <td>2</td>\n",
       "      <td>3</td>\n",
       "      <td>5</td>\n",
       "    </tr>\n",
       "    <tr>\n",
       "      <th>1</th>\n",
       "      <td>0</td>\n",
       "      <td>5</td>\n",
       "      <td>2</td>\n",
       "      <td>9</td>\n",
       "      <td>1</td>\n",
       "      <td>0</td>\n",
       "      <td>1</td>\n",
       "      <td>0</td>\n",
       "      <td>0</td>\n",
       "      <td>4</td>\n",
       "      <td>...</td>\n",
       "      <td>2</td>\n",
       "      <td>7</td>\n",
       "      <td>7</td>\n",
       "      <td>0</td>\n",
       "      <td>2</td>\n",
       "      <td>1</td>\n",
       "      <td>4</td>\n",
       "      <td>3</td>\n",
       "      <td>2</td>\n",
       "      <td>1</td>\n",
       "    </tr>\n",
       "    <tr>\n",
       "      <th>2</th>\n",
       "      <td>0</td>\n",
       "      <td>0</td>\n",
       "      <td>2</td>\n",
       "      <td>8</td>\n",
       "      <td>1</td>\n",
       "      <td>3</td>\n",
       "      <td>1</td>\n",
       "      <td>0</td>\n",
       "      <td>0</td>\n",
       "      <td>5</td>\n",
       "      <td>...</td>\n",
       "      <td>2</td>\n",
       "      <td>7</td>\n",
       "      <td>7</td>\n",
       "      <td>0</td>\n",
       "      <td>2</td>\n",
       "      <td>1</td>\n",
       "      <td>4</td>\n",
       "      <td>3</td>\n",
       "      <td>2</td>\n",
       "      <td>3</td>\n",
       "    </tr>\n",
       "    <tr>\n",
       "      <th>3</th>\n",
       "      <td>1</td>\n",
       "      <td>5</td>\n",
       "      <td>3</td>\n",
       "      <td>8</td>\n",
       "      <td>1</td>\n",
       "      <td>6</td>\n",
       "      <td>1</td>\n",
       "      <td>0</td>\n",
       "      <td>1</td>\n",
       "      <td>5</td>\n",
       "      <td>...</td>\n",
       "      <td>2</td>\n",
       "      <td>7</td>\n",
       "      <td>7</td>\n",
       "      <td>0</td>\n",
       "      <td>2</td>\n",
       "      <td>1</td>\n",
       "      <td>4</td>\n",
       "      <td>2</td>\n",
       "      <td>3</td>\n",
       "      <td>5</td>\n",
       "    </tr>\n",
       "    <tr>\n",
       "      <th>4</th>\n",
       "      <td>0</td>\n",
       "      <td>5</td>\n",
       "      <td>2</td>\n",
       "      <td>3</td>\n",
       "      <td>0</td>\n",
       "      <td>5</td>\n",
       "      <td>1</td>\n",
       "      <td>1</td>\n",
       "      <td>0</td>\n",
       "      <td>4</td>\n",
       "      <td>...</td>\n",
       "      <td>2</td>\n",
       "      <td>7</td>\n",
       "      <td>7</td>\n",
       "      <td>0</td>\n",
       "      <td>2</td>\n",
       "      <td>1</td>\n",
       "      <td>0</td>\n",
       "      <td>3</td>\n",
       "      <td>0</td>\n",
       "      <td>1</td>\n",
       "    </tr>\n",
       "  </tbody>\n",
       "</table>\n",
       "<p>5 rows × 23 columns</p>\n",
       "</div>"
      ],
      "text/plain": [
       "   class  cap-shape  cap-surface  cap-color  bruises  odor  gill-attachment  \\\n",
       "0      1          5            2          4        1     6                1   \n",
       "1      0          5            2          9        1     0                1   \n",
       "2      0          0            2          8        1     3                1   \n",
       "3      1          5            3          8        1     6                1   \n",
       "4      0          5            2          3        0     5                1   \n",
       "\n",
       "   gill-spacing  gill-size  gill-color  ...  stalk-surface-below-ring  \\\n",
       "0             0          1           4  ...                         2   \n",
       "1             0          0           4  ...                         2   \n",
       "2             0          0           5  ...                         2   \n",
       "3             0          1           5  ...                         2   \n",
       "4             1          0           4  ...                         2   \n",
       "\n",
       "   stalk-color-above-ring  stalk-color-below-ring  veil-type  veil-color  \\\n",
       "0                       7                       7          0           2   \n",
       "1                       7                       7          0           2   \n",
       "2                       7                       7          0           2   \n",
       "3                       7                       7          0           2   \n",
       "4                       7                       7          0           2   \n",
       "\n",
       "   ring-number  ring-type  spore-print-color  population  habitat  \n",
       "0            1          4                  2           3        5  \n",
       "1            1          4                  3           2        1  \n",
       "2            1          4                  3           2        3  \n",
       "3            1          4                  2           3        5  \n",
       "4            1          0                  3           0        1  \n",
       "\n",
       "[5 rows x 23 columns]"
      ]
     },
     "execution_count": 89,
     "metadata": {},
     "output_type": "execute_result"
    }
   ],
   "source": [
    "from sklearn.preprocessing import LabelEncoder\n",
    "\n",
    "le = LabelEncoder()\n",
    "\n",
    "# loop through all columns of the dataframe and label encode them\n",
    "for col in df.columns:\n",
    "    df[col] = le.fit_transform(df[col])\n",
    "\n",
    "df.head()"
   ]
  },
  {
   "cell_type": "code",
   "execution_count": 90,
   "metadata": {},
   "outputs": [],
   "source": [
    "train_df = df[[col for col in df.columns if col != 'class']]\n",
    "label = df['class']\n",
    "label = np.where(label == 1, 1, -1)"
   ]
  },
  {
   "cell_type": "code",
   "execution_count": 126,
   "metadata": {},
   "outputs": [
    {
     "data": {
      "text/plain": [
       "((6499, 22), (1625, 22))"
      ]
     },
     "execution_count": 126,
     "metadata": {},
     "output_type": "execute_result"
    }
   ],
   "source": [
    "from sklearn.model_selection import train_test_split\n",
    "\n",
    "X_train, X_test, y_train, y_test = train_test_split(train_df.values, label, test_size=0.2)\n",
    "X_train.shape, X_test.shape"
   ]
  },
  {
   "cell_type": "code",
   "execution_count": 124,
   "metadata": {},
   "outputs": [
    {
     "data": {
      "text/plain": [
       "<AxesSubplot: >"
      ]
     },
     "execution_count": 124,
     "metadata": {},
     "output_type": "execute_result"
    },
    {
     "data": {
      "image/png": "[encoded data removed]",
      "text/plain": [
       "<Figure size 640x480 with 1 Axes>"
      ]
     },
     "metadata": {},
     "output_type": "display_data"
    }
   ],
   "source": [
    "from sklearn.metrics import accuracy_score\n",
    "import seaborn as sns\n",
    "\n",
    "sns.set()\n",
    "\n",
    "iter_grid = [1, 5, 10, 20, 30, 40, 50, 60, 70, 80, 90, 100]\n",
    "accs = []\n",
    "for i in iter_grid:\n",
    "    clf = BoostedClassificationTrees(num_iter=i)\n",
    "    clf.fit(X_train, y_train)\n",
    "    accs.append(accuracy_score(y_test, clf.predict(X_test)))\n",
    "\n",
    "sns.lineplot(x=iter_grid, y=accs)"
   ]
  },
  {
   "cell_type": "code",
   "execution_count": 67,
   "metadata": {},
   "outputs": [
    {
     "data": {
      "text/plain": [
       "<bound method BaseDecisionTree.decision_path of DecisionTreeClassifier(max_depth=2)>"
      ]
     },
     "execution_count": 67,
     "metadata": {},
     "output_type": "execute_result"
    }
   ],
   "source": [
    "clf.trees[0].decision_path"
   ]
  },
  {
   "cell_type": "code",
   "execution_count": 57,
   "metadata": {},
   "outputs": [
    {
     "data": {
      "text/plain": [
       "(array([-1,  1]), array([941, 684]))"
      ]
     },
     "execution_count": 57,
     "metadata": {},
     "output_type": "execute_result"
    }
   ],
   "source": [
    "np.unique(clf.predict(X_test), return_counts=True)\n",
    "\n"
   ]
  },
  {
   "cell_type": "code",
   "execution_count": 73,
   "metadata": {},
   "outputs": [
    {
     "data": {
      "text/plain": [
       "'Source.gv.pdf'"
      ]
     },
     "execution_count": 73,
     "metadata": {},
     "output_type": "execute_result"
    }
   ],
   "source": [
    "from sklearn.tree import export_graphviz\n",
    "import graphviz\n",
    "\n",
    "dot_data = export_graphviz(clf.trees[1], out_file=None,\n",
    "                           feature_names=train_df.columns,\n",
    "                           class_names=[\"-1\", \"1\"],\n",
    "                           filled=True, rounded=True,\n",
    "                           special_characters=True)\n",
    "\n",
    "graph = graphviz.Source(dot_data)\n",
    "graph.view()"
   ]
  },
  {
   "cell_type": "code",
   "execution_count": 74,
   "metadata": {},
   "outputs": [
    {
     "name": "stdout",
     "output_type": "stream",
     "text": [
      "0.9076923076923077\n"
     ]
    }
   ],
   "source": [
    "clf = DecisionTreeClassifier(max_depth=2)\n",
    "clf.fit(X_train, y_train)\n",
    "print(accuracy_score(y_test, clf.predict(X_test)))"
   ]
  },
  {
   "cell_type": "code",
   "execution_count": 84,
   "metadata": {},
   "outputs": [
    {
     "name": "stdout",
     "output_type": "stream",
     "text": [
      "0\n",
      "22     0.008679\n",
      "15     0.008679\n",
      "65     0.008679\n",
      "11     0.008679\n",
      "42     0.008679\n",
      "         ...   \n",
      "71     0.008679\n",
      "106    0.008679\n",
      "14     0.008679\n",
      "92     0.008679\n",
      "102    0.008679\n",
      "Name: 4, Length: 120, dtype: float64\n",
      "1\n",
      "22     0.008764\n",
      "15     0.008764\n",
      "65     0.008764\n",
      "11     0.008764\n",
      "42     0.008764\n",
      "         ...   \n",
      "71     0.008764\n",
      "106    0.000087\n",
      "14     0.008764\n",
      "92     0.008764\n",
      "102    0.008764\n",
      "Name: 4, Length: 120, dtype: float64\n",
      "2\n",
      "22     8.765244e-03\n",
      "15     8.765244e-03\n",
      "65     8.765244e-03\n",
      "11     8.765244e-03\n",
      "42     8.765244e-03\n",
      "           ...     \n",
      "71     8.765244e-03\n",
      "106    8.526927e-09\n",
      "14     8.765244e-03\n",
      "92     8.765244e-03\n",
      "102    8.765244e-03\n",
      "Name: 4, Length: 120, dtype: float64\n",
      "3\n",
      "22     8.765244e-03\n",
      "15     8.765244e-03\n",
      "65     8.765244e-03\n",
      "11     8.765244e-03\n",
      "42     8.765244e-03\n",
      "           ...     \n",
      "71     8.765244e-03\n",
      "106    8.219220e-17\n",
      "14     8.765244e-03\n",
      "92     8.765244e-03\n",
      "102    8.765244e-03\n",
      "Name: 4, Length: 120, dtype: float64\n",
      "4\n",
      "22     8.765244e-03\n",
      "15     8.765244e-03\n",
      "65     8.765244e-03\n",
      "11     8.765244e-03\n",
      "42     8.765244e-03\n",
      "           ...     \n",
      "71     8.765244e-03\n",
      "106    7.636718e-33\n",
      "14     8.765244e-03\n",
      "92     8.765244e-03\n",
      "102    8.765244e-03\n",
      "Name: 4, Length: 120, dtype: float64\n",
      "5\n",
      "22     8.765244e-03\n",
      "15     8.765244e-03\n",
      "65     8.765244e-03\n",
      "11     8.765244e-03\n",
      "42     8.765244e-03\n",
      "           ...     \n",
      "71     8.765244e-03\n",
      "106    6.592635e-65\n",
      "14     8.765244e-03\n",
      "92     8.765244e-03\n",
      "102    8.765244e-03\n",
      "Name: 4, Length: 120, dtype: float64\n",
      "6\n",
      "22      8.765244e-03\n",
      "15      8.765244e-03\n",
      "65      8.765244e-03\n",
      "11      8.765244e-03\n",
      "42      8.765244e-03\n",
      "           ...      \n",
      "71      8.765244e-03\n",
      "106    4.913190e-129\n",
      "14      8.765244e-03\n",
      "92      8.765244e-03\n",
      "102     8.765244e-03\n",
      "Name: 4, Length: 120, dtype: float64\n",
      "7\n",
      "22      8.765244e-03\n",
      "15      8.765244e-03\n",
      "65      8.765244e-03\n",
      "11      8.765244e-03\n",
      "42      8.765244e-03\n",
      "           ...      \n",
      "71      8.765244e-03\n",
      "106    2.728806e-257\n",
      "14      8.765244e-03\n",
      "92      8.765244e-03\n",
      "102     8.765244e-03\n",
      "Name: 4, Length: 120, dtype: float64\n",
      "8\n",
      "22     0.008765\n",
      "15     0.008765\n",
      "65     0.008765\n",
      "11     0.008765\n",
      "42     0.008765\n",
      "         ...   \n",
      "71     0.008765\n",
      "106    0.000000\n",
      "14     0.008765\n",
      "92     0.008765\n",
      "102    0.008765\n",
      "Name: 4, Length: 120, dtype: float64\n",
      "achieved perfect classification on iteration 9\n",
      "1.0\n"
     ]
    }
   ],
   "source": [
    "iris_df = pd.read_csv('../data/iris.data', header=None)\n",
    "iris_df[4] = np.where(iris_df[4] != 'Iris-virginica', -1, 1)\n",
    "\n",
    "label = iris_df[4]\n",
    "train_df = iris_df.loc[:, :3]\n",
    "\n",
    "X_train, X_test, y_train, y_test = train_test_split(train_df.values, label, test_size=0.2, random_state=42)\n",
    "\n",
    "\n",
    "clf = BoostedClassificationTrees()\n",
    "clf.fit(X_train, y_train)\n",
    "print(accuracy_score(y_test, clf.predict(X_test)))\n",
    "accs.append(accuracy_score(y_test, clf.predict(X_test)))"
   ]
  },
  {
   "cell_type": "code",
   "execution_count": 87,
   "metadata": {},
   "outputs": [
    {
     "data": {
      "text/plain": [
       "'Source.gv.pdf'"
      ]
     },
     "execution_count": 87,
     "metadata": {},
     "output_type": "execute_result"
    }
   ],
   "source": [
    "dot_data = export_graphviz(clf.trees[8], out_file=None,\n",
    "                           feature_names=train_df.columns,\n",
    "                           class_names=[\"-1\", \"1\"],\n",
    "                           filled=True, rounded=True,\n",
    "                           special_characters=True)\n",
    "\n",
    "graph = graphviz.Source(dot_data)\n",
    "graph.view()"
   ]
  },
  {
   "cell_type": "code",
   "execution_count": null,
   "metadata": {},
   "outputs": [],
   "source": []
  }
 ],
 "metadata": {
  "kernelspec": {
   "display_name": "stat-222",
   "language": "python",
   "name": "python3"
  },
  "language_info": {
   "codemirror_mode": {
    "name": "ipython",
    "version": 3
   },
   "file_extension": ".py",
   "mimetype": "text/x-python",
   "name": "python",
   "nbconvert_exporter": "python",
   "pygments_lexer": "ipython3",
   "version": "3.9.16"
  },
  "orig_nbformat": 4,
  "vscode": {
   "interpreter": {
    "hash": "7e341ab7778497f9d9ee1e825e0472870fe97556fd25583590c5303e68cf6db9"
   }
  }
 },
 "nbformat": 4,
 "nbformat_minor": 2
}
